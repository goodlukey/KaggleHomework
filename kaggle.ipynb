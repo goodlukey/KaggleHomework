{
 "cells": [
  {
   "cell_type": "code",
   "execution_count": null,
   "id": "07bdf914",
   "metadata": {},
   "outputs": [
    {
     "data": {
      "text/plain": [
       "Index(['Unnamed: 0', 'id', 'person_age', 'person_income', 'person_emp_length',\n",
       "       'loan_intent', 'loan_grade', 'loan_amnt', 'loan_int_rate',\n",
       "       'loan_percent_income', 'cb_person_default_on_file',\n",
       "       'cb_person_cred_hist_length', 'loan_status',\n",
       "       'person_home_ownership_MORTGAGE', 'person_home_ownership_OTHER',\n",
       "       'person_home_ownership_OWN', 'person_home_ownership_RENT',\n",
       "       'loan_intent_encoded'],\n",
       "      dtype='object')"
      ]
     },
     "execution_count": 5,
     "metadata": {},
     "output_type": "execute_result"
    }
   ],
   "source": [
    "import pandas as pd\n",
    "df = pd.read_csv('encoded data.csv')\n",
    "df.columns"
   ]
  },
  {
   "cell_type": "code",
   "execution_count": 7,
   "id": "fa76a47e",
   "metadata": {},
   "outputs": [
    {
     "data": {
      "text/plain": [
       "Index(['id', 'person_age', 'person_income', 'person_emp_length', 'loan_intent',\n",
       "       'loan_grade', 'loan_amnt', 'loan_int_rate', 'loan_percent_income',\n",
       "       'cb_person_default_on_file', 'cb_person_cred_hist_length',\n",
       "       'loan_status', 'person_home_ownership_MORTGAGE',\n",
       "       'person_home_ownership_OTHER', 'person_home_ownership_OWN',\n",
       "       'person_home_ownership_RENT', 'loan_intent_encoded'],\n",
       "      dtype='object')"
      ]
     },
     "execution_count": 7,
     "metadata": {},
     "output_type": "execute_result"
    }
   ],
   "source": [
    "df.drop(columns='Unnamed: 0',inplace=True)\n",
    "df.columns"
   ]
  },
  {
   "cell_type": "code",
   "execution_count": null,
   "id": "95e2790d",
   "metadata": {},
   "outputs": [],
   "source": [
    "import seaborn as sns\n"
   ]
  },
  {
   "cell_type": "code",
   "execution_count": 14,
   "id": "a433e94a",
   "metadata": {},
   "outputs": [],
   "source": [
    "from sklearn.model_selection import train_test_split\n",
    "from sklearn.ensemble import AdaBoostClassifier\n",
    "from sklearn.tree import DecisionTreeClassifier\n",
    "from sklearn.metrics import roc_auc_score, classification_report\n",
    "import pandas as pd\n",
    "\n",
    "# 重新讀取處理好的資料\n",
    "file_path = \"encoded data.csv\"\n",
    "df = pd.read_csv(file_path)\n",
    "\n",
    "# 1. 刪除無用欄位\n",
    "df = df.drop(columns=[\"Unnamed: 0\", \"id\", \"loan_intent\"])\n",
    "\n",
    "# 2. 分割特徵與目標\n",
    "X = df.drop(columns=[\"loan_status\"])\n",
    "y = df[\"loan_status\"]\n",
    "\n",
    "# 3. 切割訓練集與驗證集\n",
    "X_train, X_valid, y_train, y_valid = train_test_split(\n",
    "    X, y, test_size=0.2, random_state=42, stratify=y\n",
    ")\n",
    "\n",
    "# 4. 建立 AdaBoost 模型\n",
    "base_model = DecisionTreeClassifier(max_depth=1)\n",
    "adaboost_model = AdaBoostClassifier(\n",
    "    base_estimator=base_model,\n",
    "    n_estimators=200,\n",
    "    learning_rate=0.8,\n",
    "    random_state=42\n",
    ")\n",
    "\n",
    "# 5. 訓練模型\n",
    "adaboost_model.fit(X_train, y_train)\n",
    "\n",
    "# 6. 預測與評估\n",
    "y_pred_proba = adaboost_model.predict_proba(X_valid)[:, 1]\n",
    "y_pred = adaboost_model.predict(X_valid)\n",
    "\n",
    "auc_score = roc_auc_score(y_valid, y_pred_proba)\n",
    "report = classification_report(y_valid, y_pred)\n",
    "\n",
    "\n"
   ]
  },
  {
   "cell_type": "code",
   "execution_count": null,
   "id": "85205b38",
   "metadata": {},
   "outputs": [],
   "source": [
    "y_pred"
   ]
  },
  {
   "cell_type": "code",
   "execution_count": 15,
   "id": "0bea37a1",
   "metadata": {},
   "outputs": [
    {
     "data": {
      "text/plain": [
       "0.9329404120479591"
      ]
     },
     "execution_count": 15,
     "metadata": {},
     "output_type": "execute_result"
    }
   ],
   "source": [
    "auc_score"
   ]
  },
  {
   "cell_type": "code",
   "execution_count": 16,
   "id": "450c0ef5",
   "metadata": {},
   "outputs": [
    {
     "data": {
      "text/plain": [
       "'              precision    recall  f1-score   support\\n\\n           0       0.94      0.98      0.96     10059\\n           1       0.83      0.65      0.73      1670\\n\\n    accuracy                           0.93     11729\\n   macro avg       0.89      0.81      0.85     11729\\nweighted avg       0.93      0.93      0.93     11729\\n'"
      ]
     },
     "execution_count": 16,
     "metadata": {},
     "output_type": "execute_result"
    }
   ],
   "source": [
    "report"
   ]
  }
 ],
 "metadata": {
  "kernelspec": {
   "display_name": "base",
   "language": "python",
   "name": "python3"
  },
  "language_info": {
   "codemirror_mode": {
    "name": "ipython",
    "version": 3
   },
   "file_extension": ".py",
   "mimetype": "text/x-python",
   "name": "python",
   "nbconvert_exporter": "python",
   "pygments_lexer": "ipython3",
   "version": "3.9.12"
  }
 },
 "nbformat": 4,
 "nbformat_minor": 5
}
