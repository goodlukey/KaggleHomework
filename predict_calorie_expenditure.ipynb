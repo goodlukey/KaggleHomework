{
 "cells": [
  {
   "cell_type": "code",
   "execution_count": 10,
   "id": "f65687cb",
   "metadata": {},
   "outputs": [],
   "source": [
    "import pandas as pd\n",
    "import matplotlib.pyplot as plt\n",
    "import numpy as np\n",
    "import seaborn as sns"
   ]
  },
  {
   "cell_type": "code",
   "execution_count": 3,
   "id": "73c2cea3",
   "metadata": {},
   "outputs": [],
   "source": [
    "df = pd.read_csv(r'./data/predict_calorie_expenditure/train.csv')"
   ]
  },
  {
   "cell_type": "code",
   "execution_count": 19,
   "id": "15e36b47",
   "metadata": {},
   "outputs": [
    {
     "data": {
      "application/vnd.microsoft.datawrangler.viewer.v0+json": {
       "columns": [
        {
         "name": "index",
         "rawType": "int64",
         "type": "integer"
        },
        {
         "name": "id",
         "rawType": "int64",
         "type": "integer"
        },
        {
         "name": "Sex",
         "rawType": "object",
         "type": "string"
        },
        {
         "name": "Age",
         "rawType": "int64",
         "type": "integer"
        },
        {
         "name": "Height",
         "rawType": "float64",
         "type": "float"
        },
        {
         "name": "Weight",
         "rawType": "float64",
         "type": "float"
        },
        {
         "name": "Duration",
         "rawType": "float64",
         "type": "float"
        },
        {
         "name": "Heart_Rate",
         "rawType": "float64",
         "type": "float"
        },
        {
         "name": "Body_Temp",
         "rawType": "float64",
         "type": "float"
        },
        {
         "name": "Calories",
         "rawType": "float64",
         "type": "float"
        }
       ],
       "conversionMethod": "pd.DataFrame",
       "ref": "67b453ef-e2bc-41f4-8688-b12bc0f768c6",
       "rows": [
        [
         "0",
         "0",
         "male",
         "36",
         "189.0",
         "82.0",
         "26.0",
         "101.0",
         "41.0",
         "150.0"
        ],
        [
         "1",
         "1",
         "female",
         "64",
         "163.0",
         "60.0",
         "8.0",
         "85.0",
         "39.7",
         "34.0"
        ],
        [
         "2",
         "2",
         "female",
         "51",
         "161.0",
         "64.0",
         "7.0",
         "84.0",
         "39.8",
         "29.0"
        ],
        [
         "3",
         "3",
         "male",
         "20",
         "192.0",
         "90.0",
         "25.0",
         "105.0",
         "40.7",
         "140.0"
        ],
        [
         "4",
         "4",
         "female",
         "38",
         "166.0",
         "61.0",
         "25.0",
         "102.0",
         "40.6",
         "146.0"
        ]
       ],
       "shape": {
        "columns": 9,
        "rows": 5
       }
      },
      "text/html": [
       "<div>\n",
       "<style scoped>\n",
       "    .dataframe tbody tr th:only-of-type {\n",
       "        vertical-align: middle;\n",
       "    }\n",
       "\n",
       "    .dataframe tbody tr th {\n",
       "        vertical-align: top;\n",
       "    }\n",
       "\n",
       "    .dataframe thead th {\n",
       "        text-align: right;\n",
       "    }\n",
       "</style>\n",
       "<table border=\"1\" class=\"dataframe\">\n",
       "  <thead>\n",
       "    <tr style=\"text-align: right;\">\n",
       "      <th></th>\n",
       "      <th>id</th>\n",
       "      <th>Sex</th>\n",
       "      <th>Age</th>\n",
       "      <th>Height</th>\n",
       "      <th>Weight</th>\n",
       "      <th>Duration</th>\n",
       "      <th>Heart_Rate</th>\n",
       "      <th>Body_Temp</th>\n",
       "      <th>Calories</th>\n",
       "    </tr>\n",
       "  </thead>\n",
       "  <tbody>\n",
       "    <tr>\n",
       "      <th>0</th>\n",
       "      <td>0</td>\n",
       "      <td>male</td>\n",
       "      <td>36</td>\n",
       "      <td>189.0</td>\n",
       "      <td>82.0</td>\n",
       "      <td>26.0</td>\n",
       "      <td>101.0</td>\n",
       "      <td>41.0</td>\n",
       "      <td>150.0</td>\n",
       "    </tr>\n",
       "    <tr>\n",
       "      <th>1</th>\n",
       "      <td>1</td>\n",
       "      <td>female</td>\n",
       "      <td>64</td>\n",
       "      <td>163.0</td>\n",
       "      <td>60.0</td>\n",
       "      <td>8.0</td>\n",
       "      <td>85.0</td>\n",
       "      <td>39.7</td>\n",
       "      <td>34.0</td>\n",
       "    </tr>\n",
       "    <tr>\n",
       "      <th>2</th>\n",
       "      <td>2</td>\n",
       "      <td>female</td>\n",
       "      <td>51</td>\n",
       "      <td>161.0</td>\n",
       "      <td>64.0</td>\n",
       "      <td>7.0</td>\n",
       "      <td>84.0</td>\n",
       "      <td>39.8</td>\n",
       "      <td>29.0</td>\n",
       "    </tr>\n",
       "    <tr>\n",
       "      <th>3</th>\n",
       "      <td>3</td>\n",
       "      <td>male</td>\n",
       "      <td>20</td>\n",
       "      <td>192.0</td>\n",
       "      <td>90.0</td>\n",
       "      <td>25.0</td>\n",
       "      <td>105.0</td>\n",
       "      <td>40.7</td>\n",
       "      <td>140.0</td>\n",
       "    </tr>\n",
       "    <tr>\n",
       "      <th>4</th>\n",
       "      <td>4</td>\n",
       "      <td>female</td>\n",
       "      <td>38</td>\n",
       "      <td>166.0</td>\n",
       "      <td>61.0</td>\n",
       "      <td>25.0</td>\n",
       "      <td>102.0</td>\n",
       "      <td>40.6</td>\n",
       "      <td>146.0</td>\n",
       "    </tr>\n",
       "  </tbody>\n",
       "</table>\n",
       "</div>"
      ],
      "text/plain": [
       "   id     Sex  Age  Height  Weight  Duration  Heart_Rate  Body_Temp  Calories\n",
       "0   0    male   36   189.0    82.0      26.0       101.0       41.0     150.0\n",
       "1   1  female   64   163.0    60.0       8.0        85.0       39.7      34.0\n",
       "2   2  female   51   161.0    64.0       7.0        84.0       39.8      29.0\n",
       "3   3    male   20   192.0    90.0      25.0       105.0       40.7     140.0\n",
       "4   4  female   38   166.0    61.0      25.0       102.0       40.6     146.0"
      ]
     },
     "execution_count": 19,
     "metadata": {},
     "output_type": "execute_result"
    }
   ],
   "source": [
    "df.head()"
   ]
  },
  {
   "cell_type": "code",
   "execution_count": 7,
   "id": "7ea9fd13",
   "metadata": {},
   "outputs": [
    {
     "data": {
      "application/vnd.microsoft.datawrangler.viewer.v0+json": {
       "columns": [
        {
         "name": "index",
         "rawType": "object",
         "type": "string"
        },
        {
         "name": "Age",
         "rawType": "float64",
         "type": "float"
        },
        {
         "name": "Height",
         "rawType": "float64",
         "type": "float"
        },
        {
         "name": "Weight",
         "rawType": "float64",
         "type": "float"
        },
        {
         "name": "Duration",
         "rawType": "float64",
         "type": "float"
        },
        {
         "name": "Heart_Rate",
         "rawType": "float64",
         "type": "float"
        },
        {
         "name": "Body_Temp",
         "rawType": "float64",
         "type": "float"
        },
        {
         "name": "Calories",
         "rawType": "float64",
         "type": "float"
        }
       ],
       "conversionMethod": "pd.DataFrame",
       "ref": "14197fd7-2374-47be-9a01-0ef8f7315196",
       "rows": [
        [
         "count",
         "750000.0",
         "750000.0",
         "750000.0",
         "750000.0",
         "750000.0",
         "750000.0",
         "750000.0"
        ],
        [
         "mean",
         "41.420404",
         "174.69768546666666",
         "75.145668",
         "15.421014666666666",
         "95.48399465764",
         "40.03625318080231",
         "88.28278133333333"
        ],
        [
         "std",
         "15.175048847356774",
         "12.824495661028045",
         "13.982703512561239",
         "8.354095425106202",
         "9.449845358526646",
         "0.7798745572760215",
         "62.39534902771201"
        ],
        [
         "min",
         "20.0",
         "126.0",
         "36.0",
         "1.0",
         "67.0",
         "37.1",
         "1.0"
        ],
        [
         "25%",
         "28.0",
         "164.0",
         "63.0",
         "8.0",
         "88.0",
         "39.6",
         "34.0"
        ],
        [
         "50%",
         "40.0",
         "174.0",
         "74.0",
         "15.0",
         "95.0",
         "40.3",
         "77.0"
        ],
        [
         "75%",
         "52.0",
         "185.0",
         "87.0",
         "23.0",
         "103.0",
         "40.7",
         "136.0"
        ],
        [
         "max",
         "79.0",
         "222.0",
         "132.0",
         "30.0",
         "128.0",
         "41.5",
         "314.0"
        ]
       ],
       "shape": {
        "columns": 7,
        "rows": 8
       }
      },
      "text/html": [
       "<div>\n",
       "<style scoped>\n",
       "    .dataframe tbody tr th:only-of-type {\n",
       "        vertical-align: middle;\n",
       "    }\n",
       "\n",
       "    .dataframe tbody tr th {\n",
       "        vertical-align: top;\n",
       "    }\n",
       "\n",
       "    .dataframe thead th {\n",
       "        text-align: right;\n",
       "    }\n",
       "</style>\n",
       "<table border=\"1\" class=\"dataframe\">\n",
       "  <thead>\n",
       "    <tr style=\"text-align: right;\">\n",
       "      <th></th>\n",
       "      <th>Age</th>\n",
       "      <th>Height</th>\n",
       "      <th>Weight</th>\n",
       "      <th>Duration</th>\n",
       "      <th>Heart_Rate</th>\n",
       "      <th>Body_Temp</th>\n",
       "      <th>Calories</th>\n",
       "    </tr>\n",
       "  </thead>\n",
       "  <tbody>\n",
       "    <tr>\n",
       "      <th>count</th>\n",
       "      <td>750000.000000</td>\n",
       "      <td>750000.000000</td>\n",
       "      <td>750000.000000</td>\n",
       "      <td>750000.000000</td>\n",
       "      <td>750000.000000</td>\n",
       "      <td>750000.000000</td>\n",
       "      <td>750000.000000</td>\n",
       "    </tr>\n",
       "    <tr>\n",
       "      <th>mean</th>\n",
       "      <td>41.420404</td>\n",
       "      <td>174.697685</td>\n",
       "      <td>75.145668</td>\n",
       "      <td>15.421015</td>\n",
       "      <td>95.483995</td>\n",
       "      <td>40.036253</td>\n",
       "      <td>88.282781</td>\n",
       "    </tr>\n",
       "    <tr>\n",
       "      <th>std</th>\n",
       "      <td>15.175049</td>\n",
       "      <td>12.824496</td>\n",
       "      <td>13.982704</td>\n",
       "      <td>8.354095</td>\n",
       "      <td>9.449845</td>\n",
       "      <td>0.779875</td>\n",
       "      <td>62.395349</td>\n",
       "    </tr>\n",
       "    <tr>\n",
       "      <th>min</th>\n",
       "      <td>20.000000</td>\n",
       "      <td>126.000000</td>\n",
       "      <td>36.000000</td>\n",
       "      <td>1.000000</td>\n",
       "      <td>67.000000</td>\n",
       "      <td>37.100000</td>\n",
       "      <td>1.000000</td>\n",
       "    </tr>\n",
       "    <tr>\n",
       "      <th>25%</th>\n",
       "      <td>28.000000</td>\n",
       "      <td>164.000000</td>\n",
       "      <td>63.000000</td>\n",
       "      <td>8.000000</td>\n",
       "      <td>88.000000</td>\n",
       "      <td>39.600000</td>\n",
       "      <td>34.000000</td>\n",
       "    </tr>\n",
       "    <tr>\n",
       "      <th>50%</th>\n",
       "      <td>40.000000</td>\n",
       "      <td>174.000000</td>\n",
       "      <td>74.000000</td>\n",
       "      <td>15.000000</td>\n",
       "      <td>95.000000</td>\n",
       "      <td>40.300000</td>\n",
       "      <td>77.000000</td>\n",
       "    </tr>\n",
       "    <tr>\n",
       "      <th>75%</th>\n",
       "      <td>52.000000</td>\n",
       "      <td>185.000000</td>\n",
       "      <td>87.000000</td>\n",
       "      <td>23.000000</td>\n",
       "      <td>103.000000</td>\n",
       "      <td>40.700000</td>\n",
       "      <td>136.000000</td>\n",
       "    </tr>\n",
       "    <tr>\n",
       "      <th>max</th>\n",
       "      <td>79.000000</td>\n",
       "      <td>222.000000</td>\n",
       "      <td>132.000000</td>\n",
       "      <td>30.000000</td>\n",
       "      <td>128.000000</td>\n",
       "      <td>41.500000</td>\n",
       "      <td>314.000000</td>\n",
       "    </tr>\n",
       "  </tbody>\n",
       "</table>\n",
       "</div>"
      ],
      "text/plain": [
       "                 Age         Height         Weight       Duration  \\\n",
       "count  750000.000000  750000.000000  750000.000000  750000.000000   \n",
       "mean       41.420404     174.697685      75.145668      15.421015   \n",
       "std        15.175049      12.824496      13.982704       8.354095   \n",
       "min        20.000000     126.000000      36.000000       1.000000   \n",
       "25%        28.000000     164.000000      63.000000       8.000000   \n",
       "50%        40.000000     174.000000      74.000000      15.000000   \n",
       "75%        52.000000     185.000000      87.000000      23.000000   \n",
       "max        79.000000     222.000000     132.000000      30.000000   \n",
       "\n",
       "          Heart_Rate      Body_Temp       Calories  \n",
       "count  750000.000000  750000.000000  750000.000000  \n",
       "mean       95.483995      40.036253      88.282781  \n",
       "std         9.449845       0.779875      62.395349  \n",
       "min        67.000000      37.100000       1.000000  \n",
       "25%        88.000000      39.600000      34.000000  \n",
       "50%        95.000000      40.300000      77.000000  \n",
       "75%       103.000000      40.700000     136.000000  \n",
       "max       128.000000      41.500000     314.000000  "
      ]
     },
     "execution_count": 7,
     "metadata": {},
     "output_type": "execute_result"
    }
   ],
   "source": [
    "df.drop(columns=['id']).describe()"
   ]
  },
  {
   "cell_type": "code",
   "execution_count": 11,
   "id": "06db328d",
   "metadata": {},
   "outputs": [
    {
     "data": {
      "image/png": "[encoded data removed]",
      "text/plain": [
       "<Figure size 864x360 with 2 Axes>"
      ]
     },
     "metadata": {
      "needs_background": "light"
     },
     "output_type": "display_data"
    },
    {
     "name": "stdout",
     "output_type": "stream",
     "text": [
      "\n",
      "Statistics for Age:\n",
      "Skewness: 0.44\n",
      "Number of Missing Values: 0\n"
     ]
    },
    {
     "data": {
      "image/png": "[encoded data removed]",
      "text/plain": [
       "<Figure size 864x360 with 2 Axes>"
      ]
     },
     "metadata": {
      "needs_background": "light"
     },
     "output_type": "display_data"
    },
    {
     "name": "stdout",
     "output_type": "stream",
     "text": [
      "\n",
      "Statistics for Height:\n",
      "Skewness: 0.05\n",
      "Number of Missing Values: 0\n"
     ]
    },
    {
     "data": {
      "image/png": "[encoded data removed]",
      "text/plain": [
       "<Figure size 864x360 with 2 Axes>"
      ]
     },
     "metadata": {
      "needs_background": "light"
     },
     "output_type": "display_data"
    },
    {
     "name": "stdout",
     "output_type": "stream",
     "text": [
      "\n",
      "Statistics for Weight:\n",
      "Skewness: 0.21\n",
      "Number of Missing Values: 0\n"
     ]
    },
    {
     "data": {
      "image/png": "[encoded data removed]",
      "text/plain": [
       "<Figure size 864x360 with 2 Axes>"
      ]
     },
     "metadata": {
      "needs_background": "light"
     },
     "output_type": "display_data"
    },
    {
     "name": "stdout",
     "output_type": "stream",
     "text": [
      "\n",
      "Statistics for Duration:\n",
      "Skewness: 0.03\n",
      "Number of Missing Values: 0\n"
     ]
    },
    {
     "data": {
      "image/png": "[encoded data removed]",
      "text/plain": [
       "<Figure size 864x360 with 2 Axes>"
      ]
     },
     "metadata": {
      "needs_background": "light"
     },
     "output_type": "display_data"
    },
    {
     "name": "stdout",
     "output_type": "stream",
     "text": [
      "\n",
      "Statistics for Heart_Rate:\n",
      "Skewness: -0.01\n",
      "Number of Missing Values: 0\n"
     ]
    },
    {
     "data": {
      "image/png": "[encoded data removed]",
      "text/plain": [
       "<Figure size 864x360 with 2 Axes>"
      ]
     },
     "metadata": {
      "needs_background": "light"
     },
     "output_type": "display_data"
    },
    {
     "name": "stdout",
     "output_type": "stream",
     "text": [
      "\n",
      "Statistics for Body_Temp:\n",
      "Skewness: -1.02\n",
      "Number of Missing Values: 0\n"
     ]
    },
    {
     "data": {
      "image/png": "[encoded data removed]",
      "text/plain": [
       "<Figure size 864x360 with 2 Axes>"
      ]
     },
     "metadata": {
      "needs_background": "light"
     },
     "output_type": "display_data"
    },
    {
     "name": "stdout",
     "output_type": "stream",
     "text": [
      "\n",
      "Statistics for Calories:\n",
      "Skewness: 0.54\n",
      "Number of Missing Values: 0\n"
     ]
    }
   ],
   "source": [
    "numerical_features = [\n",
    "    \"Age\",\n",
    "    \"Height\",\n",
    "    \"Weight\",\n",
    "    \"Duration\",\n",
    "    \"Heart_Rate\",\n",
    "    \"Body_Temp\",\n",
    "    \"Calories\"\n",
    "    \n",
    "]\n",
    "\n",
    "for feature in numerical_features:\n",
    "    plt.figure(figsize=(12, 5))\n",
    "\n",
    "    plt.subplot(1, 2, 1)\n",
    "    sns.histplot(df[feature], kde=True, bins=30)\n",
    "    plt.title(f\"Histogram of {feature}\")\n",
    "    plt.xlabel(feature)\n",
    "    plt.ylabel(\"Frequency\")\n",
    "\n",
    "    plt.subplot(1, 2, 2)\n",
    "    sns.boxplot(x=df[feature])\n",
    "    plt.title(f\"Box Plot of {feature}\")\n",
    "\n",
    "    plt.tight_layout()\n",
    "    plt.show()\n",
    "\n",
    "    print(f\"\\nStatistics for {feature}:\")\n",
    "    print(f\"Skewness: {df[feature].skew():.2f}\")\n",
    "    print(f\"Number of Missing Values: {df[feature].isnull().sum()}\")"
   ]
  },
  {
   "cell_type": "code",
   "execution_count": null,
   "id": "b774823c",
   "metadata": {},
   "outputs": [
    {
     "data": {
      "image/png": "[encoded data removed]",
      "text/plain": [
       "<Figure size 432x432 with 1 Axes>"
      ]
     },
     "metadata": {},
     "output_type": "display_data"
    },
    {
     "name": "stdout",
     "output_type": "stream",
     "text": [
      "Number of Unique Calories: 277\n",
      "Missing Values in Calories: 0\n"
     ]
    }
   ],
   "source": [
    "sex_counts = df[\"Sex\"].value_counts()\n",
    "\n",
    "plt.figure(figsize=(6, 6))\n",
    "plt.pie(sex_counts, labels=sex_counts.index, autopct='%1.1f%%', startangle=90)\n",
    "plt.title(\"Distribution of Sex\")\n",
    "plt.axis(\"equal\")\n",
    "plt.show()\n",
    "\n",
    "print(f\"Number of Unique {feature}: {df[feature].nunique()}\")\n",
    "print(f\"Missing Values in {feature}: {df[feature].isnull().sum()}\")"
   ]
  },
  {
   "cell_type": "code",
   "execution_count": 30,
   "id": "48e6e82f",
   "metadata": {},
   "outputs": [
    {
     "name": "stdout",
     "output_type": "stream",
     "text": [
      "['Sex', 'Age', 'Height', 'Weight', 'Duration', 'Heart_Rate', 'Body_Temp']\n"
     ]
    },
    {
     "data": {
      "text/plain": [
       "0         101.0\n",
       "1          85.0\n",
       "2          84.0\n",
       "3         105.0\n",
       "4         102.0\n",
       "          ...  \n",
       "749995    114.0\n",
       "749996     92.0\n",
       "749997    113.0\n",
       "749998    102.0\n",
       "749999     97.0\n",
       "Name: Heart_Rate, Length: 750000, dtype: float64"
      ]
     },
     "execution_count": 30,
     "metadata": {},
     "output_type": "execute_result"
    }
   ],
   "source": [
    "print(columns)\n",
    "df.loc[:,'Heart_Rate']"
   ]
  },
  {
   "cell_type": "code",
   "execution_count": 40,
   "id": "2dae4fca",
   "metadata": {},
   "outputs": [
    {
     "data": {
      "text/plain": [
       "['Age', 'Height', 'Weight', 'Duration', 'Heart_Rate', 'Body_Temp']"
      ]
     },
     "execution_count": 40,
     "metadata": {},
     "output_type": "execute_result"
    }
   ],
   "source": [
    "numerical_columns"
   ]
  },
  {
   "cell_type": "code",
   "execution_count": 53,
   "id": "29ad5d10",
   "metadata": {},
   "outputs": [
    {
     "name": "stdout",
     "output_type": "stream",
     "text": [
      "Age\n",
      "Height\n",
      "Weight\n",
      "Duration\n",
      "Heart_Rate\n",
      "Body_Temp\n"
     ]
    },
    {
     "data": {
      "application/vnd.microsoft.datawrangler.viewer.v0+json": {
       "columns": [
        {
         "name": "index",
         "rawType": "int64",
         "type": "integer"
        },
        {
         "name": "Sex",
         "rawType": "int64",
         "type": "integer"
        },
        {
         "name": "Age",
         "rawType": "int64",
         "type": "integer"
        },
        {
         "name": "Height",
         "rawType": "float64",
         "type": "float"
        },
        {
         "name": "Weight",
         "rawType": "float64",
         "type": "float"
        },
        {
         "name": "Duration",
         "rawType": "float64",
         "type": "float"
        },
        {
         "name": "Heart_Rate",
         "rawType": "float64",
         "type": "float"
        },
        {
         "name": "Body_Temp",
         "rawType": "float64",
         "type": "float"
        },
        {
         "name": "Calories",
         "rawType": "float64",
         "type": "float"
        }
       ],
       "conversionMethod": "pd.DataFrame",
       "ref": "a8f78567-3462-4b5d-9782-f2193dd9a005",
       "rows": [
        [
         "0",
         "0",
         "36",
         "189.0",
         "82.0",
         "26.0",
         "101.0",
         "41.0",
         "150.0"
        ],
        [
         "1",
         "1",
         "64",
         "163.0",
         "60.0",
         "8.0",
         "85.0",
         "39.7",
         "34.0"
        ],
        [
         "2",
         "1",
         "51",
         "161.0",
         "64.0",
         "7.0",
         "84.0",
         "39.8",
         "29.0"
        ],
        [
         "3",
         "0",
         "20",
         "192.0",
         "90.0",
         "25.0",
         "105.0",
         "40.7",
         "140.0"
        ],
        [
         "4",
         "1",
         "38",
         "166.0",
         "61.0",
         "25.0",
         "102.0",
         "40.6",
         "146.0"
        ],
        [
         "5",
         "1",
         "26",
         "156.0",
         "56.0",
         "19.0",
         "100.0",
         "40.5",
         "103.0"
        ],
        [
         "7",
         "0",
         "46",
         "188.0",
         "94.0",
         "23.0",
         "100.0",
         "40.8",
         "145.0"
        ],
        [
         "8",
         "1",
         "33",
         "166.0",
         "63.0",
         "25.0",
         "107.0",
         "40.5",
         "161.0"
        ],
        [
         "9",
         "0",
         "65",
         "185.0",
         "88.0",
         "23.0",
         "104.0",
         "41.0",
         "185.0"
        ],
        [
         "10",
         "0",
         "20",
         "186.0",
         "89.0",
         "21.0",
         "94.0",
         "40.3",
         "86.0"
        ],
        [
         "11",
         "1",
         "41",
         "161.0",
         "63.0",
         "6.0",
         "91.0",
         "39.1",
         "28.0"
        ],
        [
         "12",
         "0",
         "25",
         "203.0",
         "99.0",
         "29.0",
         "111.0",
         "40.8",
         "202.0"
        ],
        [
         "13",
         "0",
         "57",
         "188.0",
         "91.0",
         "12.0",
         "105.0",
         "40.1",
         "87.0"
        ],
        [
         "14",
         "1",
         "44",
         "179.0",
         "77.0",
         "6.0",
         "84.0",
         "39.3",
         "23.0"
        ],
        [
         "15",
         "0",
         "38",
         "180.0",
         "85.0",
         "11.0",
         "92.0",
         "40.0",
         "47.0"
        ],
        [
         "16",
         "0",
         "27",
         "186.0",
         "81.0",
         "15.0",
         "101.0",
         "40.1",
         "80.0"
        ],
        [
         "19",
         "0",
         "51",
         "187.0",
         "94.0",
         "3.0",
         "81.0",
         "38.8",
         "10.0"
        ],
        [
         "21",
         "1",
         "32",
         "171.0",
         "71.0",
         "7.0",
         "82.0",
         "39.7",
         "23.0"
        ],
        [
         "22",
         "0",
         "32",
         "177.0",
         "78.0",
         "9.0",
         "91.0",
         "39.6",
         "35.0"
        ],
        [
         "23",
         "0",
         "72",
         "186.0",
         "92.0",
         "29.0",
         "98.0",
         "40.9",
         "264.0"
        ],
        [
         "24",
         "1",
         "45",
         "184.0",
         "79.0",
         "30.0",
         "108.0",
         "41.1",
         "187.0"
        ],
        [
         "25",
         "1",
         "22",
         "164.0",
         "67.0",
         "8.0",
         "83.0",
         "39.7",
         "29.0"
        ],
        [
         "26",
         "0",
         "48",
         "164.0",
         "64.0",
         "11.0",
         "95.0",
         "39.7",
         "51.0"
        ],
        [
         "27",
         "0",
         "54",
         "179.0",
         "87.0",
         "21.0",
         "92.0",
         "40.7",
         "105.0"
        ],
        [
         "28",
         "0",
         "41",
         "182.0",
         "89.0",
         "15.0",
         "93.0",
         "40.1",
         "72.0"
        ],
        [
         "29",
         "1",
         "40",
         "162.0",
         "64.0",
         "4.0",
         "88.0",
         "39.1",
         "16.0"
        ],
        [
         "30",
         "1",
         "42",
         "156.0",
         "51.0",
         "19.0",
         "94.0",
         "40.3",
         "98.0"
        ],
        [
         "31",
         "0",
         "43",
         "182.0",
         "86.0",
         "12.0",
         "94.0",
         "39.9",
         "61.0"
        ],
        [
         "32",
         "1",
         "53",
         "150.0",
         "55.0",
         "5.0",
         "81.0",
         "38.8",
         "20.0"
        ],
        [
         "33",
         "1",
         "54",
         "163.0",
         "60.0",
         "28.0",
         "110.0",
         "40.8",
         "195.0"
        ],
        [
         "34",
         "0",
         "54",
         "189.0",
         "94.0",
         "9.0",
         "85.0",
         "40.1",
         "36.0"
        ],
        [
         "35",
         "0",
         "31",
         "186.0",
         "84.0",
         "20.0",
         "101.0",
         "40.8",
         "106.0"
        ],
        [
         "36",
         "1",
         "46",
         "169.0",
         "69.0",
         "20.0",
         "97.0",
         "40.7",
         "109.0"
        ],
        [
         "37",
         "0",
         "36",
         "165.0",
         "78.0",
         "6.0",
         "81.0",
         "39.2",
         "15.0"
        ],
        [
         "38",
         "0",
         "47",
         "191.0",
         "92.0",
         "17.0",
         "96.0",
         "40.4",
         "95.0"
        ],
        [
         "39",
         "1",
         "40",
         "152.0",
         "51.0",
         "27.0",
         "102.0",
         "40.8",
         "165.0"
        ],
        [
         "41",
         "1",
         "61",
         "161.0",
         "60.0",
         "29.0",
         "111.0",
         "41.0",
         "209.0"
        ],
        [
         "43",
         "1",
         "40",
         "161.0",
         "62.0",
         "15.0",
         "88.0",
         "40.3",
         "66.0"
        ],
        [
         "44",
         "1",
         "21",
         "161.0",
         "56.0",
         "18.0",
         "98.0",
         "40.5",
         "92.0"
        ],
        [
         "46",
         "1",
         "50",
         "171.0",
         "64.0",
         "28.0",
         "116.0",
         "41.2",
         "214.0"
        ],
        [
         "47",
         "1",
         "35",
         "170.0",
         "70.0",
         "20.0",
         "92.0",
         "40.7",
         "92.0"
        ],
        [
         "48",
         "1",
         "45",
         "183.0",
         "82.0",
         "25.0",
         "99.0",
         "41.1",
         "136.0"
        ],
        [
         "49",
         "1",
         "26",
         "180.0",
         "72.0",
         "18.0",
         "102.0",
         "40.4",
         "98.0"
        ],
        [
         "50",
         "1",
         "25",
         "164.0",
         "65.0",
         "7.0",
         "91.0",
         "39.8",
         "31.0"
        ],
        [
         "51",
         "0",
         "65",
         "169.0",
         "74.0",
         "16.0",
         "102.0",
         "40.3",
         "110.0"
        ],
        [
         "52",
         "0",
         "34",
         "179.0",
         "88.0",
         "4.0",
         "86.0",
         "39.1",
         "15.0"
        ],
        [
         "53",
         "0",
         "64",
         "199.0",
         "99.0",
         "16.0",
         "95.0",
         "40.4",
         "105.0"
        ],
        [
         "54",
         "0",
         "32",
         "196.0",
         "97.0",
         "6.0",
         "91.0",
         "39.4",
         "26.0"
        ],
        [
         "55",
         "1",
         "62",
         "170.0",
         "69.0",
         "7.0",
         "87.0",
         "39.4",
         "30.0"
        ],
        [
         "56",
         "1",
         "31",
         "174.0",
         "69.0",
         "27.0",
         "109.0",
         "40.4",
         "170.0"
        ]
       ],
       "shape": {
        "columns": 8,
        "rows": 686323
       }
      },
      "text/html": [
       "<div>\n",
       "<style scoped>\n",
       "    .dataframe tbody tr th:only-of-type {\n",
       "        vertical-align: middle;\n",
       "    }\n",
       "\n",
       "    .dataframe tbody tr th {\n",
       "        vertical-align: top;\n",
       "    }\n",
       "\n",
       "    .dataframe thead th {\n",
       "        text-align: right;\n",
       "    }\n",
       "</style>\n",
       "<table border=\"1\" class=\"dataframe\">\n",
       "  <thead>\n",
       "    <tr style=\"text-align: right;\">\n",
       "      <th></th>\n",
       "      <th>Sex</th>\n",
       "      <th>Age</th>\n",
       "      <th>Height</th>\n",
       "      <th>Weight</th>\n",
       "      <th>Duration</th>\n",
       "      <th>Heart_Rate</th>\n",
       "      <th>Body_Temp</th>\n",
       "      <th>Calories</th>\n",
       "    </tr>\n",
       "  </thead>\n",
       "  <tbody>\n",
       "    <tr>\n",
       "      <th>0</th>\n",
       "      <td>0</td>\n",
       "      <td>36</td>\n",
       "      <td>189.0</td>\n",
       "      <td>82.0</td>\n",
       "      <td>26.0</td>\n",
       "      <td>101.0</td>\n",
       "      <td>41.0</td>\n",
       "      <td>150.0</td>\n",
       "    </tr>\n",
       "    <tr>\n",
       "      <th>1</th>\n",
       "      <td>1</td>\n",
       "      <td>64</td>\n",
       "      <td>163.0</td>\n",
       "      <td>60.0</td>\n",
       "      <td>8.0</td>\n",
       "      <td>85.0</td>\n",
       "      <td>39.7</td>\n",
       "      <td>34.0</td>\n",
       "    </tr>\n",
       "    <tr>\n",
       "      <th>2</th>\n",
       "      <td>1</td>\n",
       "      <td>51</td>\n",
       "      <td>161.0</td>\n",
       "      <td>64.0</td>\n",
       "      <td>7.0</td>\n",
       "      <td>84.0</td>\n",
       "      <td>39.8</td>\n",
       "      <td>29.0</td>\n",
       "    </tr>\n",
       "    <tr>\n",
       "      <th>3</th>\n",
       "      <td>0</td>\n",
       "      <td>20</td>\n",
       "      <td>192.0</td>\n",
       "      <td>90.0</td>\n",
       "      <td>25.0</td>\n",
       "      <td>105.0</td>\n",
       "      <td>40.7</td>\n",
       "      <td>140.0</td>\n",
       "    </tr>\n",
       "    <tr>\n",
       "      <th>4</th>\n",
       "      <td>1</td>\n",
       "      <td>38</td>\n",
       "      <td>166.0</td>\n",
       "      <td>61.0</td>\n",
       "      <td>25.0</td>\n",
       "      <td>102.0</td>\n",
       "      <td>40.6</td>\n",
       "      <td>146.0</td>\n",
       "    </tr>\n",
       "    <tr>\n",
       "      <th>...</th>\n",
       "      <td>...</td>\n",
       "      <td>...</td>\n",
       "      <td>...</td>\n",
       "      <td>...</td>\n",
       "      <td>...</td>\n",
       "      <td>...</td>\n",
       "      <td>...</td>\n",
       "      <td>...</td>\n",
       "    </tr>\n",
       "    <tr>\n",
       "      <th>749995</th>\n",
       "      <td>0</td>\n",
       "      <td>28</td>\n",
       "      <td>193.0</td>\n",
       "      <td>97.0</td>\n",
       "      <td>30.0</td>\n",
       "      <td>114.0</td>\n",
       "      <td>40.9</td>\n",
       "      <td>230.0</td>\n",
       "    </tr>\n",
       "    <tr>\n",
       "      <th>749996</th>\n",
       "      <td>1</td>\n",
       "      <td>64</td>\n",
       "      <td>165.0</td>\n",
       "      <td>63.0</td>\n",
       "      <td>18.0</td>\n",
       "      <td>92.0</td>\n",
       "      <td>40.5</td>\n",
       "      <td>96.0</td>\n",
       "    </tr>\n",
       "    <tr>\n",
       "      <th>749997</th>\n",
       "      <td>0</td>\n",
       "      <td>60</td>\n",
       "      <td>162.0</td>\n",
       "      <td>67.0</td>\n",
       "      <td>29.0</td>\n",
       "      <td>113.0</td>\n",
       "      <td>40.9</td>\n",
       "      <td>221.0</td>\n",
       "    </tr>\n",
       "    <tr>\n",
       "      <th>749998</th>\n",
       "      <td>0</td>\n",
       "      <td>45</td>\n",
       "      <td>182.0</td>\n",
       "      <td>91.0</td>\n",
       "      <td>17.0</td>\n",
       "      <td>102.0</td>\n",
       "      <td>40.3</td>\n",
       "      <td>109.0</td>\n",
       "    </tr>\n",
       "    <tr>\n",
       "      <th>749999</th>\n",
       "      <td>1</td>\n",
       "      <td>39</td>\n",
       "      <td>171.0</td>\n",
       "      <td>65.0</td>\n",
       "      <td>19.0</td>\n",
       "      <td>97.0</td>\n",
       "      <td>40.6</td>\n",
       "      <td>103.0</td>\n",
       "    </tr>\n",
       "  </tbody>\n",
       "</table>\n",
       "<p>686323 rows × 8 columns</p>\n",
       "</div>"
      ],
      "text/plain": [
       "        Sex  Age  Height  Weight  Duration  Heart_Rate  Body_Temp  Calories\n",
       "0         0   36   189.0    82.0      26.0       101.0       41.0     150.0\n",
       "1         1   64   163.0    60.0       8.0        85.0       39.7      34.0\n",
       "2         1   51   161.0    64.0       7.0        84.0       39.8      29.0\n",
       "3         0   20   192.0    90.0      25.0       105.0       40.7     140.0\n",
       "4         1   38   166.0    61.0      25.0       102.0       40.6     146.0\n",
       "...     ...  ...     ...     ...       ...         ...        ...       ...\n",
       "749995    0   28   193.0    97.0      30.0       114.0       40.9     230.0\n",
       "749996    1   64   165.0    63.0      18.0        92.0       40.5      96.0\n",
       "749997    0   60   162.0    67.0      29.0       113.0       40.9     221.0\n",
       "749998    0   45   182.0    91.0      17.0       102.0       40.3     109.0\n",
       "749999    1   39   171.0    65.0      19.0        97.0       40.6     103.0\n",
       "\n",
       "[686323 rows x 8 columns]"
      ]
     },
     "execution_count": 53,
     "metadata": {},
     "output_type": "execute_result"
    }
   ],
   "source": [
    "numerical_columns = df.drop(columns=['id','Calories','Sex']).columns.to_list()\n",
    "\n",
    "cleaned_df = df.drop(columns=['id']).copy()\n",
    "for col in numerical_columns:\n",
    "    print(col)\n",
    "    Q1 = df.loc[:, col].quantile(0.25)\n",
    "    Q3 = df.loc[:, col].quantile(0.75)\n",
    "    IQR = Q3 - Q1\n",
    "    upperBoundary = df.loc[:, col].median() + 1.5 * IQR\n",
    "    lowerBoundary = df.loc[:, col].median() - 1.5 * IQR\n",
    "    cleaned_df = cleaned_df.loc[(df.loc[:, col] <= upperBoundary) & (df.loc[:, col] >= lowerBoundary)]\n",
    "\n",
    "cleaned_df.Sex = cleaned_df.Sex.map({'male':0,\n",
    "                    'female':1})\n",
    "cleaned_df"
   ]
  },
  {
   "cell_type": "code",
   "execution_count": null,
   "id": "84541472",
   "metadata": {},
   "outputs": [],
   "source": [
    "for feature in numerical_columns:\n",
    "    plt.figure(figsize=(12, 5))\n",
    "\n",
    "    plt.subplot(1, 2, 1)\n",
    "    sns.histplot(cleaned_df[feature], kde=True, bins=30)\n",
    "    plt.title(f\"Histogram of {feature}\")\n",
    "    plt.xlabel(feature)\n",
    "    plt.ylabel(\"Frequency\")\n",
    "\n",
    "    plt.subplot(1, 2, 2)\n",
    "    sns.boxplot(x=cleaned_df[feature])\n",
    "    plt.title(f\"Box Plot of {feature}\")\n",
    "\n",
    "    plt.tight_layout()\n",
    "    plt.show()"
   ]
  },
  {
   "cell_type": "code",
   "execution_count": 59,
   "id": "9ea62dbb",
   "metadata": {},
   "outputs": [
    {
     "data": {
      "image/png": "[encoded data removed]",
      "text/plain": [
       "<Figure size 864x360 with 2 Axes>"
      ]
     },
     "metadata": {
      "needs_background": "light"
     },
     "output_type": "display_data"
    }
   ],
   "source": [
    "plt.figure(figsize=(12, 5))\n",
    "\n",
    "plt.subplot(1, 2, 1)\n",
    "sns.histplot(cleaned_df.Body_Temp, kde=True, bins=15)\n",
    "plt.xlabel('Body_Temp')\n",
    "plt.ylabel('Freq')\n",
    "plt.title(\"Histogram of Body_Temp\")\n",
    "\n",
    "plt.subplot(1, 2, 2)\n",
    "sns.boxplot(x = cleaned_df.Body_Temp)\n",
    "plt.title(\"Box plot of Body_Temp\")\n",
    "\n",
    "plt.tight_layout()\n",
    "plt.show()"
   ]
  },
  {
   "cell_type": "markdown",
   "id": "0196921e",
   "metadata": {},
   "source": [
    "# 建立模型\n",
    "---"
   ]
  },
  {
   "cell_type": "code",
   "execution_count": 60,
   "id": "ca9aa0fa",
   "metadata": {},
   "outputs": [
    {
     "data": {
      "text/plain": [
       "Index(['Sex', 'Age', 'Height', 'Weight', 'Duration', 'Heart_Rate', 'Body_Temp',\n",
       "       'Calories'],\n",
       "      dtype='object')"
      ]
     },
     "execution_count": 60,
     "metadata": {},
     "output_type": "execute_result"
    }
   ],
   "source": [
    "cleaned_df.columns"
   ]
  },
  {
   "cell_type": "code",
   "execution_count": 66,
   "id": "ffbb6879",
   "metadata": {},
   "outputs": [
    {
     "name": "stderr",
     "output_type": "stream",
     "text": [
      "d:\\ProgramData\\Anaconda3\\lib\\site-packages\\sklearn\\model_selection\\_split.py:676: UserWarning: The least populated class in y has only 1 members, which is less than n_splits=5.\n",
      "  warnings.warn(\n",
      "C:\\Users\\luke\\AppData\\Roaming\\Python\\Python39\\site-packages\\xgboost\\core.py:158: UserWarning: [21:57:32] WARNING: C:\\buildkite-agent\\builds\\buildkite-windows-cpu-autoscaling-group-i-08cbc0333d8d4aae1-1\\xgboost\\xgboost-ci-windows\\src\\learner.cc:740: \n",
      "Parameters: { \"verbose\" } are not used.\n",
      "\n",
      "  warnings.warn(smsg, UserWarning)\n"
     ]
    },
    {
     "name": "stdout",
     "output_type": "stream",
     "text": [
      "Fold 0 RMSE: 3.9680\n"
     ]
    },
    {
     "name": "stderr",
     "output_type": "stream",
     "text": [
      "C:\\Users\\luke\\AppData\\Roaming\\Python\\Python39\\site-packages\\xgboost\\core.py:158: UserWarning: [21:57:39] WARNING: C:\\buildkite-agent\\builds\\buildkite-windows-cpu-autoscaling-group-i-08cbc0333d8d4aae1-1\\xgboost\\xgboost-ci-windows\\src\\learner.cc:740: \n",
      "Parameters: { \"verbose\" } are not used.\n",
      "\n",
      "  warnings.warn(smsg, UserWarning)\n"
     ]
    },
    {
     "name": "stdout",
     "output_type": "stream",
     "text": [
      "Fold 1 RMSE: 4.0084\n"
     ]
    },
    {
     "name": "stderr",
     "output_type": "stream",
     "text": [
      "C:\\Users\\luke\\AppData\\Roaming\\Python\\Python39\\site-packages\\xgboost\\core.py:158: UserWarning: [21:57:46] WARNING: C:\\buildkite-agent\\builds\\buildkite-windows-cpu-autoscaling-group-i-08cbc0333d8d4aae1-1\\xgboost\\xgboost-ci-windows\\src\\learner.cc:740: \n",
      "Parameters: { \"verbose\" } are not used.\n",
      "\n",
      "  warnings.warn(smsg, UserWarning)\n"
     ]
    },
    {
     "name": "stdout",
     "output_type": "stream",
     "text": [
      "Fold 2 RMSE: 4.0288\n"
     ]
    },
    {
     "name": "stderr",
     "output_type": "stream",
     "text": [
      "C:\\Users\\luke\\AppData\\Roaming\\Python\\Python39\\site-packages\\xgboost\\core.py:158: UserWarning: [21:57:53] WARNING: C:\\buildkite-agent\\builds\\buildkite-windows-cpu-autoscaling-group-i-08cbc0333d8d4aae1-1\\xgboost\\xgboost-ci-windows\\src\\learner.cc:740: \n",
      "Parameters: { \"verbose\" } are not used.\n",
      "\n",
      "  warnings.warn(smsg, UserWarning)\n"
     ]
    },
    {
     "name": "stdout",
     "output_type": "stream",
     "text": [
      "Fold 3 RMSE: 3.9753\n"
     ]
    },
    {
     "name": "stderr",
     "output_type": "stream",
     "text": [
      "C:\\Users\\luke\\AppData\\Roaming\\Python\\Python39\\site-packages\\xgboost\\core.py:158: UserWarning: [21:58:00] WARNING: C:\\buildkite-agent\\builds\\buildkite-windows-cpu-autoscaling-group-i-08cbc0333d8d4aae1-1\\xgboost\\xgboost-ci-windows\\src\\learner.cc:740: \n",
      "Parameters: { \"verbose\" } are not used.\n",
      "\n",
      "  warnings.warn(smsg, UserWarning)\n"
     ]
    },
    {
     "name": "stdout",
     "output_type": "stream",
     "text": [
      "Fold 4 RMSE: 3.9415\n"
     ]
    }
   ],
   "source": [
    "import pandas as pd\n",
    "import xgboost as xgb\n",
    "from sklearn.model_selection import StratifiedKFold\n",
    "from sklearn.metrics import roc_auc_score, classification_report\n",
    "import numpy as np\n",
    "from tqdm import tqdm  # Import tqdm for progress tracking\n",
    "\n",
    "# 選取特徵與輸出\n",
    "X = cleaned_df.drop(columns=['Calories'])\n",
    "y = cleaned_df.Calories\n",
    "\n",
    "# 建立交叉驗證器\n",
    "kf = StratifiedKFold(n_splits=5, shuffle=True, random_state=42)\n",
    "\n",
    "# 預留紀錄\n",
    "oof_preds = np.zeros(len(X))  # Out-Of-Fold 預測分數\n",
    "fold_scores = []              # 記錄每折的AUC\n",
    "\n",
    "# 開始K折訓練\n",
    "for fold, (train_idx, val_idx) in enumerate(kf.split(X, y)):\n",
    "    X_train, X_val = X.iloc[train_idx], X.iloc[val_idx]\n",
    "    y_train, y_val = y.iloc[train_idx], y.iloc[val_idx]\n",
    "\n",
    "    # 建立模型\n",
    "    model = xgb.XGBRegressor(\n",
    "        objective='reg:squarederror',  # Regression task\n",
    "        colsample_bytree=0.3,          # Subsample ratio of columns\n",
    "        learning_rate=0.1,             # Step size at each iteration\n",
    "        max_depth=5,                   # Maximum depth of a tree\n",
    "        alpha=10,                      # L2 regularization term\n",
    "        n_estimators=1000,             # Number of trees\n",
    "        random_state=42,\n",
    "        verbose=200  # Set verbose to get more detailed output\n",
    "    )\n",
    "\n",
    "    # 訓練\n",
    "    model.fit(X_train, y_train)\n",
    "\n",
    "    # 預測\n",
    "    val_preds = model.predict(X_val)\n",
    "    \n",
    "    # Predict OOF and test\n",
    "    oof_preds[val_idx] = model.predict(X_val)\n",
    "\n",
    "    rmse = np.sqrt(np.mean((y_val - oof_preds[val_idx])**2))\n",
    "    print(f\"Fold {fold} RMSE: {rmse:.4f}\")"
   ]
  },
  {
   "cell_type": "code",
   "execution_count": 72,
   "id": "b37ecdc6",
   "metadata": {},
   "outputs": [],
   "source": [
    "df_test = pd.read_csv(r'./data\\predict_calorie_expenditure/test.csv')\n",
    "X_test = df_test.drop(columns=['id']).copy()\n",
    "X_test.Sex = X_test.Sex.map({'male':0,\n",
    "                         'female':1})\n",
    "y_test = model.predict(X_test)"
   ]
  },
  {
   "cell_type": "code",
   "execution_count": 82,
   "id": "f5006058",
   "metadata": {},
   "outputs": [
    {
     "data": {
      "application/vnd.microsoft.datawrangler.viewer.v0+json": {
       "columns": [
        {
         "name": "index",
         "rawType": "int64",
         "type": "integer"
        },
        {
         "name": "Calories",
         "rawType": "float32",
         "type": "float"
        }
       ],
       "conversionMethod": "pd.DataFrame",
       "ref": "1bf688a9-bb46-4094-bcfb-e9c3cec6142e",
       "rows": [
        [
         "429",
         "-2.0981297"
        ],
        [
         "636",
         "-0.7305818"
        ],
        [
         "912",
         "-0.16034132"
        ],
        [
         "1430",
         "-2.6918037"
        ],
        [
         "2134",
         "-3.1489024"
        ],
        [
         "2278",
         "-0.1770858"
        ],
        [
         "2315",
         "-1.6493057"
        ],
        [
         "2546",
         "-0.43970758"
        ],
        [
         "2566",
         "-5.1724477"
        ],
        [
         "2569",
         "-4.952227"
        ],
        [
         "2885",
         "-2.790929"
        ],
        [
         "3746",
         "-0.35340148"
        ],
        [
         "4112",
         "-3.9282444"
        ],
        [
         "4221",
         "-4.727286"
        ],
        [
         "4348",
         "-0.69130087"
        ],
        [
         "4671",
         "-1.3703719"
        ],
        [
         "4713",
         "-1.8075527"
        ],
        [
         "5279",
         "-6.022488"
        ],
        [
         "5593",
         "-2.6164656"
        ],
        [
         "5865",
         "-1.9968094"
        ],
        [
         "6713",
         "-2.4573336"
        ],
        [
         "6860",
         "-3.6418576"
        ],
        [
         "7082",
         "-4.279026"
        ],
        [
         "7117",
         "-1.178922"
        ],
        [
         "7495",
         "-1.0101976"
        ],
        [
         "7615",
         "-1.0657594"
        ],
        [
         "7678",
         "-4.704435"
        ],
        [
         "7867",
         "-1.6291343"
        ],
        [
         "7993",
         "-0.013591544"
        ],
        [
         "8069",
         "-1.0774486"
        ],
        [
         "8098",
         "-0.69051045"
        ],
        [
         "8105",
         "-0.50887346"
        ],
        [
         "8266",
         "-1.201762"
        ],
        [
         "8831",
         "-4.28202"
        ],
        [
         "9081",
         "-4.7448916"
        ],
        [
         "9477",
         "-0.43572232"
        ],
        [
         "9485",
         "-0.23920397"
        ],
        [
         "9858",
         "-2.518325"
        ],
        [
         "10020",
         "-0.32785106"
        ],
        [
         "10633",
         "-3.480297"
        ],
        [
         "10906",
         "-4.010528"
        ],
        [
         "10979",
         "-1.3147854"
        ],
        [
         "11279",
         "-3.5770166"
        ],
        [
         "11289",
         "-2.0399077"
        ],
        [
         "11343",
         "-2.6319637"
        ],
        [
         "11495",
         "-2.3413482"
        ],
        [
         "11608",
         "-2.0642643"
        ],
        [
         "12115",
         "-0.3483199"
        ],
        [
         "12141",
         "-4.847575"
        ],
        [
         "12185",
         "-1.093735"
        ]
       ],
       "shape": {
        "columns": 1,
        "rows": 1274
       }
      },
      "text/html": [
       "<div>\n",
       "<style scoped>\n",
       "    .dataframe tbody tr th:only-of-type {\n",
       "        vertical-align: middle;\n",
       "    }\n",
       "\n",
       "    .dataframe tbody tr th {\n",
       "        vertical-align: top;\n",
       "    }\n",
       "\n",
       "    .dataframe thead th {\n",
       "        text-align: right;\n",
       "    }\n",
       "</style>\n",
       "<table border=\"1\" class=\"dataframe\">\n",
       "  <thead>\n",
       "    <tr style=\"text-align: right;\">\n",
       "      <th></th>\n",
       "      <th>Calories</th>\n",
       "    </tr>\n",
       "  </thead>\n",
       "  <tbody>\n",
       "    <tr>\n",
       "      <th>429</th>\n",
       "      <td>-2.098130</td>\n",
       "    </tr>\n",
       "    <tr>\n",
       "      <th>636</th>\n",
       "      <td>-0.730582</td>\n",
       "    </tr>\n",
       "    <tr>\n",
       "      <th>912</th>\n",
       "      <td>-0.160341</td>\n",
       "    </tr>\n",
       "    <tr>\n",
       "      <th>1430</th>\n",
       "      <td>-2.691804</td>\n",
       "    </tr>\n",
       "    <tr>\n",
       "      <th>2134</th>\n",
       "      <td>-3.148902</td>\n",
       "    </tr>\n",
       "    <tr>\n",
       "      <th>...</th>\n",
       "      <td>...</td>\n",
       "    </tr>\n",
       "    <tr>\n",
       "      <th>248476</th>\n",
       "      <td>-5.206288</td>\n",
       "    </tr>\n",
       "    <tr>\n",
       "      <th>248775</th>\n",
       "      <td>-1.285136</td>\n",
       "    </tr>\n",
       "    <tr>\n",
       "      <th>249665</th>\n",
       "      <td>-5.648099</td>\n",
       "    </tr>\n",
       "    <tr>\n",
       "      <th>249887</th>\n",
       "      <td>-0.994087</td>\n",
       "    </tr>\n",
       "    <tr>\n",
       "      <th>249967</th>\n",
       "      <td>-2.189105</td>\n",
       "    </tr>\n",
       "  </tbody>\n",
       "</table>\n",
       "<p>1274 rows × 1 columns</p>\n",
       "</div>"
      ],
      "text/plain": [
       "        Calories\n",
       "429    -2.098130\n",
       "636    -0.730582\n",
       "912    -0.160341\n",
       "1430   -2.691804\n",
       "2134   -3.148902\n",
       "...          ...\n",
       "248476 -5.206288\n",
       "248775 -1.285136\n",
       "249665 -5.648099\n",
       "249887 -0.994087\n",
       "249967 -2.189105\n",
       "\n",
       "[1274 rows x 1 columns]"
      ]
     },
     "execution_count": 82,
     "metadata": {},
     "output_type": "execute_result"
    }
   ],
   "source": [
    "output = pd.DataFrame(y_test,columns=['Calories'])\n",
    "filter = output.Calories < 0\n",
    "output.loc[filter]"
   ]
  },
  {
   "cell_type": "code",
   "execution_count": 77,
   "id": "f8c9335b",
   "metadata": {},
   "outputs": [],
   "source": [
    "df_sub = pd.read_csv(r'./data\\predict_calorie_expenditure/sample_submission.csv')\n",
    "df_sub.Calories = y_test\n",
    "df_sub.to_csv(r'./data\\predict_calorie_expenditure/submission.csv',index=None)"
   ]
  }
 ],
 "metadata": {
  "kernelspec": {
   "display_name": "base",
   "language": "python",
   "name": "python3"
  },
  "language_info": {
   "codemirror_mode": {
    "name": "ipython",
    "version": 3
   },
   "file_extension": ".py",
   "mimetype": "text/x-python",
   "name": "python",
   "nbconvert_exporter": "python",
   "pygments_lexer": "ipython3",
   "version": "3.9.12"
  }
 },
 "nbformat": 4,
 "nbformat_minor": 5
}
